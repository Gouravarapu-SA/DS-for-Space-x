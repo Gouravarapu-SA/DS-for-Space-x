{
  "cells": [
    {
      "cell_type": "markdown",
      "metadata": {
        "id": "e5DnIYuk2j8_"
      },
      "source": [
        "<p style=\"text-align:center\">\n",
        "    <a href=\"https://skills.network\" target=\"_blank\">\n",
        "    <img src=\"https://cf-courses-data.s3.us.cloud-object-storage.appdomain.cloud/assets/logos/SN_web_lightmode.png\" width=\"200\" alt=\"Skills Network Logo\">\n",
        "    </a>\n",
        "</p>\n",
        "\n",
        "<h1 align=center><font size = 5>Assignment: SQL Notebook for Peer Assignment</font></h1>\n",
        "\n",
        "Estimated time needed: **60** minutes.\n",
        "\n",
        "## Introduction\n",
        "Using this Python notebook you will:\n",
        "\n",
        "1.  Understand the Spacex DataSet\n",
        "2.  Load the dataset  into the corresponding table in a Db2 database\n",
        "3.  Execute SQL queries to answer assignment questions\n"
      ]
    },
    {
      "cell_type": "markdown",
      "metadata": {
        "id": "MMHEmYKz2j9L"
      },
      "source": [
        "## Overview of the DataSet\n",
        "\n",
        "SpaceX has gained worldwide attention for a series of historic milestones.\n",
        "\n",
        "It is the only private company ever to return a spacecraft from low-earth orbit, which it first accomplished in December 2010.\n",
        "SpaceX advertises Falcon 9 rocket launches on its website with a cost of 62 million dollars wheras other providers cost upward of 165 million dollars each, much of the savings is because Space X can reuse the first stage.\n",
        "\n",
        "\n",
        "Therefore if we can determine if the first stage will land, we can determine the cost of a launch.\n",
        "\n",
        "This information can be used if an alternate company wants to bid against SpaceX for a rocket launch.\n",
        "\n",
        "This dataset includes a record for each payload carried during a SpaceX mission into outer space.\n"
      ]
    },
    {
      "cell_type": "markdown",
      "metadata": {
        "id": "E3Ajc2FY2j9Q"
      },
      "source": [
        "### Download the datasets\n",
        "\n",
        "This assignment requires you to load the spacex dataset.\n",
        "\n",
        "In many cases the dataset to be analyzed is available as a .CSV (comma separated values) file, perhaps on the internet. Click on the link below to download and save the dataset (.CSV file):\n",
        "\n",
        " <a href=\"https://cf-courses-data.s3.us.cloud-object-storage.appdomain.cloud/IBM-DS0321EN-SkillsNetwork/labs/module_2/data/Spacex.csv\" target=\"_blank\">Spacex DataSet</a>\n",
        "\n"
      ]
    },
    {
      "cell_type": "code",
      "execution_count": null,
      "metadata": {
        "tags": [],
        "id": "NQiNxb_c2j9V",
        "outputId": "c81b248d-d8a5-4e6b-f80b-9789f5764151"
      },
      "outputs": [
        {
          "name": "stdout",
          "output_type": "stream",
          "text": [
            "Collecting sqlalchemy==1.3.9\n",
            "  Downloading SQLAlchemy-1.3.9.tar.gz (6.0 MB)\n",
            "\u001b[2K     \u001b[90m━━━━━━━━━━━━━━━━━━━━━━━━━━━━━━━━━━━━━━━━\u001b[0m \u001b[32m6.0/6.0 MB\u001b[0m \u001b[31m79.4 MB/s\u001b[0m eta \u001b[36m0:00:00\u001b[0m:00:01\u001b[0m00:01\u001b[0m\n",
            "\u001b[?25h  Preparing metadata (setup.py) ... \u001b[?25ldone\n",
            "\u001b[?25hBuilding wheels for collected packages: sqlalchemy\n",
            "  Building wheel for sqlalchemy (setup.py) ... \u001b[?25ldone\n",
            "\u001b[?25h  Created wheel for sqlalchemy: filename=SQLAlchemy-1.3.9-cp37-cp37m-linux_x86_64.whl size=1159121 sha256=3d57ddd8fe6c84498c0321d3a63839e9872b620ae0d0b4e9ac5260bd13d46479\n",
            "  Stored in directory: /home/jupyterlab/.cache/pip/wheels/03/71/13/010faf12246f72dc76b4150e6e599d13a85b4435e06fb9e51f\n",
            "Successfully built sqlalchemy\n",
            "Installing collected packages: sqlalchemy\n",
            "  Attempting uninstall: sqlalchemy\n",
            "    Found existing installation: SQLAlchemy 1.3.24\n",
            "    Uninstalling SQLAlchemy-1.3.24:\n",
            "      Successfully uninstalled SQLAlchemy-1.3.24\n",
            "Successfully installed sqlalchemy-1.3.9\n"
          ]
        }
      ],
      "source": [
        "!pip install sqlalchemy==1.3.9\n"
      ]
    },
    {
      "cell_type": "markdown",
      "metadata": {
        "id": "jNF21lRa2j9b"
      },
      "source": [
        "### Connect to the database\n",
        "\n",
        "Let us first load the SQL extension and establish a connection with the database\n"
      ]
    },
    {
      "cell_type": "code",
      "execution_count": null,
      "metadata": {
        "tags": [],
        "id": "gAMhv_AB2j9c"
      },
      "outputs": [],
      "source": [
        "#Please uncomment and execute the code below if you are working locally.\n",
        "\n",
        "#!pip install ipython-sql"
      ]
    },
    {
      "cell_type": "code",
      "execution_count": 11,
      "metadata": {
        "tags": [],
        "id": "41FkWy-G2j9d"
      },
      "outputs": [],
      "source": [
        "%load_ext sql"
      ]
    },
    {
      "cell_type": "code",
      "execution_count": 12,
      "metadata": {
        "tags": [],
        "id": "OCfeHPuU2j9d"
      },
      "outputs": [],
      "source": [
        "import csv, sqlite3\n",
        "\n",
        "con = sqlite3.connect(\"my_data1.db\")\n",
        "cur = con.cursor()"
      ]
    },
    {
      "cell_type": "code",
      "execution_count": 7,
      "metadata": {
        "tags": [],
        "colab": {
          "base_uri": "https://localhost:8080/"
        },
        "id": "comR1bsv2j9e",
        "outputId": "dac16893-68fa-4bef-d3ce-c82d5b0e482b"
      },
      "outputs": [
        {
          "output_type": "stream",
          "name": "stdout",
          "text": [
            "\u001b[2K     \u001b[90m━━━━━━━━━━━━━━━━━━━━━━━━━━━━━━━━━━━━━━━━\u001b[0m \u001b[32m5.2/5.2 MB\u001b[0m \u001b[31m13.5 MB/s\u001b[0m eta \u001b[36m0:00:00\u001b[0m\n",
            "\u001b[?25h  Installing build dependencies ... \u001b[?25l\u001b[?25hdone\n",
            "  Getting requirements to build wheel ... \u001b[?25l\u001b[?25hcanceled\u001b[31mERROR: Operation cancelled by user\u001b[0m\u001b[31m\n",
            "\u001b[0m"
          ]
        }
      ],
      "source": [
        "!pip install -q pandas==1.1.5"
      ]
    },
    {
      "cell_type": "code",
      "execution_count": 13,
      "metadata": {
        "tags": [],
        "id": "EcBSWHeR2j9f"
      },
      "outputs": [],
      "source": [
        "%sql sqlite:///my_data1.db"
      ]
    },
    {
      "cell_type": "code",
      "execution_count": 14,
      "metadata": {
        "tags": [],
        "id": "-ZUWp9V72j9g"
      },
      "outputs": [],
      "source": [
        "import pandas as pd\n",
        "df = pd.read_csv(\"https://cf-courses-data.s3.us.cloud-object-storage.appdomain.cloud/IBM-DS0321EN-SkillsNetwork/labs/module_2/data/Spacex.csv\")\n",
        "df.to_sql(\"SPACEXTBL\", con, if_exists='replace', index=False,method=\"multi\")\n",
        "import sqlite3\n",
        "\n",
        "\n"
      ]
    },
    {
      "cell_type": "code",
      "source": [
        "\n",
        "%sql create table SPACEXTABLE as select * from SPACEXTBL where Date is not null"
      ],
      "metadata": {
        "colab": {
          "base_uri": "https://localhost:8080/"
        },
        "id": "iwSfhgPMR-Tb",
        "outputId": "561fe08f-0f70-49cf-c9bc-1b55fa03642b"
      },
      "execution_count": 15,
      "outputs": [
        {
          "output_type": "stream",
          "name": "stdout",
          "text": [
            " * sqlite:///my_data1.db\n",
            "Done.\n"
          ]
        },
        {
          "output_type": "execute_result",
          "data": {
            "text/plain": [
              "[]"
            ]
          },
          "metadata": {},
          "execution_count": 15
        }
      ]
    },
    {
      "cell_type": "markdown",
      "metadata": {
        "id": "LF2Ib8s72j9h"
      },
      "source": [
        "**Note:This below code is added to remove blank rows from table**\n"
      ]
    },
    {
      "cell_type": "code",
      "execution_count": null,
      "metadata": {
        "tags": [],
        "id": "UXbpKApI2j9h",
        "outputId": "567c5d83-926d-4a6e-faeb-ced19a2c6f98"
      },
      "outputs": [
        {
          "name": "stdout",
          "output_type": "stream",
          "text": [
            " * sqlite:///my_data1.db\n",
            "Done.\n"
          ]
        },
        {
          "data": {
            "text/plain": [
              "[]"
            ]
          },
          "execution_count": 8,
          "metadata": {},
          "output_type": "execute_result"
        }
      ],
      "source": [
        "%sql create table SPACEXTABLE as select * from SPACEXTBL where Date is not null"
      ]
    },
    {
      "cell_type": "markdown",
      "metadata": {
        "id": "KEtVHsmE2j9i"
      },
      "source": [
        "## Tasks\n",
        "\n",
        "Now write and execute SQL queries to solve the assignment tasks.\n",
        "\n",
        "**Note: If the column names are in mixed case enclose it in double quotes\n",
        "   For Example \"Landing_Outcome\"**\n",
        "\n",
        "### Task 1\n",
        "\n",
        "\n",
        "\n",
        "\n",
        "##### Display the names of the unique launch sites  in the space mission\n"
      ]
    },
    {
      "cell_type": "code",
      "source": [
        "query = \"SELECT SUM(PAYLOAD_MASS__KG_) AS total_payload_mass_kg FROM SPACEXTABLE WHERE Booster_Version LIKE '%NASA%';\"\n",
        "cur.execute(query)\n"
      ],
      "metadata": {
        "colab": {
          "base_uri": "https://localhost:8080/"
        },
        "id": "A6SAwo1jYURk",
        "outputId": "ce5ac4c5-a20c-4baa-c206-9ba0207c725a"
      },
      "execution_count": 36,
      "outputs": [
        {
          "output_type": "execute_result",
          "data": {
            "text/plain": [
              "<sqlite3.Cursor at 0x7e4e51a43740>"
            ]
          },
          "metadata": {},
          "execution_count": 36
        }
      ]
    },
    {
      "cell_type": "code",
      "execution_count": 38,
      "metadata": {
        "tags": [],
        "colab": {
          "base_uri": "https://localhost:8080/"
        },
        "id": "48etikp_2j9j",
        "outputId": "3eaa8823-d2a5-4632-9331-f6866b40382e"
      },
      "outputs": [
        {
          "output_type": "stream",
          "name": "stdout",
          "text": [
            "Date\n",
            "Time (UTC)\n",
            "Booster_Version\n",
            "Launch_Site\n",
            "Payload\n",
            "PAYLOAD_MASS__KG_\n",
            "Orbit\n",
            "Customer\n",
            "Mission_Outcome\n",
            "Landing_Outcome\n"
          ]
        }
      ],
      "source": [
        "query = \"PRAGMA table_info(SPACEXTABLE);\"\n",
        "cur.execute(query)\n",
        "columns = cur.fetchall()\n",
        "for column in columns:\n",
        "    print(column[1]) # The second element in each tuple is the column name\n"
      ]
    },
    {
      "cell_type": "code",
      "source": [],
      "metadata": {
        "id": "QUWRuv0dZPhI"
      },
      "execution_count": null,
      "outputs": []
    },
    {
      "cell_type": "markdown",
      "metadata": {
        "id": "x6Bqy-i32j9j"
      },
      "source": [
        "\n",
        "### Task 2\n",
        "\n",
        "\n",
        "#####  Display 5 records where launch sites begin with the string 'CCA'\n"
      ]
    },
    {
      "cell_type": "code",
      "execution_count": 37,
      "metadata": {
        "tags": [],
        "colab": {
          "base_uri": "https://localhost:8080/"
        },
        "id": "7JetMgmt2j9k",
        "outputId": "cea88653-a6b7-4a59-cb74-4c0fbc251f6c"
      },
      "outputs": [
        {
          "output_type": "stream",
          "name": "stdout",
          "text": [
            "[('2010-06-04', '18:45:00', 'F9 v1.0  B0003', 'CCAFS LC-40', 'Dragon Spacecraft Qualification Unit', 0, 'LEO', 'SpaceX', 'Success', 'Failure (parachute)'), ('2010-12-08', '15:43:00', 'F9 v1.0  B0004', 'CCAFS LC-40', 'Dragon demo flight C1, two CubeSats, barrel of Brouere cheese', 0, 'LEO (ISS)', 'NASA (COTS) NRO', 'Success', 'Failure (parachute)'), ('2012-05-22', '7:44:00', 'F9 v1.0  B0005', 'CCAFS LC-40', 'Dragon demo flight C2', 525, 'LEO (ISS)', 'NASA (COTS)', 'Success', 'No attempt'), ('2012-10-08', '0:35:00', 'F9 v1.0  B0006', 'CCAFS LC-40', 'SpaceX CRS-1', 500, 'LEO (ISS)', 'NASA (CRS)', 'Success', 'No attempt'), ('2013-03-01', '15:10:00', 'F9 v1.0  B0007', 'CCAFS LC-40', 'SpaceX CRS-2', 677, 'LEO (ISS)', 'NASA (CRS)', 'Success', 'No attempt')]\n"
          ]
        }
      ],
      "source": [
        "cur.execute(\"SELECT * FROM SPACEXTABLE WHERE \\\"Launch_Site\\\" LIKE 'CCA%' LIMIT 5;\")\n",
        "print(cur.fetchall())\n"
      ]
    },
    {
      "cell_type": "markdown",
      "metadata": {
        "id": "Z_6UOJ8q2j9k"
      },
      "source": [
        "### Task 3\n",
        "\n",
        "\n",
        "\n",
        "\n",
        "##### Display the total payload mass carried by boosters launched by NASA (CRS)\n"
      ]
    },
    {
      "cell_type": "code",
      "execution_count": 39,
      "metadata": {
        "tags": [],
        "colab": {
          "base_uri": "https://localhost:8080/"
        },
        "id": "XVQTopBf2j9k",
        "outputId": "9dec0147-0510-4405-aa9c-fe457a3b76cd"
      },
      "outputs": [
        {
          "output_type": "stream",
          "name": "stdout",
          "text": [
            "Total payload mass carried by boosters launched by NASA (CRS): 45596 kg\n"
          ]
        }
      ],
      "source": [
        "query = \"SELECT SUM(PAYLOAD_MASS__KG_) AS total_payload_mass_kg FROM SPACEXTABLE WHERE Customer = 'NASA (CRS)';\"\n",
        "cur.execute(query)\n",
        "result = cur.fetchone()\n",
        "print(f\"Total payload mass carried by boosters launched by NASA (CRS): {result[0]} kg\")\n"
      ]
    },
    {
      "cell_type": "code",
      "source": [],
      "metadata": {
        "id": "4ZFr0xezZNxM"
      },
      "execution_count": null,
      "outputs": []
    },
    {
      "cell_type": "markdown",
      "metadata": {
        "id": "QxFV5ujn2j9l"
      },
      "source": [
        "### Task 4\n",
        "\n",
        "\n",
        "\n",
        "\n",
        "##### Display average payload mass carried by booster version F9 v1.1\n"
      ]
    },
    {
      "cell_type": "code",
      "execution_count": 40,
      "metadata": {
        "tags": [],
        "colab": {
          "base_uri": "https://localhost:8080/"
        },
        "id": "z3S_TizV2j9l",
        "outputId": "1964f90f-fecf-406d-dc2f-b07c76605586"
      },
      "outputs": [
        {
          "output_type": "stream",
          "name": "stdout",
          "text": [
            "Average payload mass carried by booster version F9 v1.1: 2928.4 kg\n"
          ]
        }
      ],
      "source": [
        "query = \"SELECT AVG(PAYLOAD_MASS__KG_) AS average_payload_mass_kg FROM SPACEXTABLE WHERE Booster_Version = 'F9 v1.1';\"\n",
        "cur.execute(query)\n",
        "result = cur.fetchone()\n",
        "print(f\"Average payload mass carried by booster version F9 v1.1: {result[0]} kg\")\n"
      ]
    },
    {
      "cell_type": "markdown",
      "metadata": {
        "id": "jj5bqT8l2j9l"
      },
      "source": [
        "### Task 5\n",
        "\n",
        "##### List the date when the first succesful landing outcome in ground pad was acheived.\n",
        "\n",
        "\n",
        "_Hint:Use min function_\n"
      ]
    },
    {
      "cell_type": "code",
      "execution_count": 41,
      "metadata": {
        "tags": [],
        "colab": {
          "base_uri": "https://localhost:8080/"
        },
        "id": "CtT51qW12j9l",
        "outputId": "9e8b5909-1d0b-44b3-dbbb-5ed818ee0902"
      },
      "outputs": [
        {
          "output_type": "stream",
          "name": "stdout",
          "text": [
            "Date of the first successful landing outcome in ground pad: None\n"
          ]
        }
      ],
      "source": [
        "query = \"SELECT MIN(Date) FROM SPACEXTABLE WHERE Landing_Outcome = 'Successful';\"\n",
        "cur.execute(query)\n",
        "result = cur.fetchone()\n",
        "print(f\"Date of the first successful landing outcome in ground pad: {result[0]}\")\n"
      ]
    },
    {
      "cell_type": "markdown",
      "metadata": {
        "id": "o2YtCZ3v2j9m"
      },
      "source": [
        "### Task 6\n",
        "\n",
        "##### List the names of the boosters which have success in drone ship and have payload mass greater than 4000 but less than 6000\n"
      ]
    },
    {
      "cell_type": "code",
      "execution_count": 42,
      "metadata": {
        "tags": [],
        "colab": {
          "base_uri": "https://localhost:8080/"
        },
        "id": "sZdRAA332j9m",
        "outputId": "ade70812-2cbc-4c35-d438-86e25c4f20fc"
      },
      "outputs": [
        {
          "output_type": "stream",
          "name": "stdout",
          "text": [
            "F9 v1.1\n",
            "F9 v1.1 B1011\n",
            "F9 v1.1 B1014\n",
            "F9 v1.1 B1016\n",
            "F9 FT B1020\n",
            "F9 FT B1022\n",
            "F9 FT B1026\n",
            "F9 FT B1030\n",
            "F9 FT  B1021.2\n",
            "F9 FT B1032.1\n",
            "F9 B4 B1040.1\n",
            "F9 FT  B1031.2\n",
            "F9 FT  B1032.2\n",
            "F9 B4  B1040.2\n",
            "F9 B5 B1046.2\n",
            "F9 B5 B1047.2\n",
            "F9 B5 B1048.3\n",
            "F9 B5 B1051.2 \n",
            "F9 B5B1060.1\n",
            "F9 B5 B1058.2 \n",
            "F9 B5B1062.1\n"
          ]
        }
      ],
      "source": [
        "query = \"SELECT Booster_Version FROM SPACEXTABLE WHERE Mission_Outcome = 'Success' AND PAYLOAD_MASS__KG_ > 4000 AND PAYLOAD_MASS__KG_ < 6000;\"\n",
        "cur.execute(query)\n",
        "results = cur.fetchall()\n",
        "for result in results:\n",
        "    print(result[0])\n"
      ]
    },
    {
      "cell_type": "markdown",
      "metadata": {
        "id": "KH8Bz8js2j9n"
      },
      "source": [
        "### Task 7\n",
        "\n",
        "\n",
        "\n",
        "\n",
        "##### List the total number of successful and failure mission outcomes\n"
      ]
    },
    {
      "cell_type": "code",
      "execution_count": null,
      "metadata": {
        "tags": [],
        "id": "ZhxS5iFB2j9n",
        "outputId": "92563780-a91e-4d35-8e46-8e41e324244b"
      },
      "outputs": [
        {
          "name": "stdout",
          "output_type": "stream",
          "text": [
            "[('Failure (in flight)', 1), ('Success', 98), ('Success ', 1), ('Success (payload status unclear)', 1)]\n"
          ]
        }
      ],
      "source": [
        "cur.execute(\"SELECT \\\"Mission_Outcome\\\", COUNT(*) FROM SPACEXTABLE GROUP BY \\\"Mission_Outcome\\\";\")\n",
        "print(cur.fetchall())\n"
      ]
    },
    {
      "cell_type": "markdown",
      "metadata": {
        "id": "1M0ukHtK2j9q"
      },
      "source": [
        "### Task 8\n",
        "\n",
        "\n",
        "\n",
        "##### List the   names of the booster_versions which have carried the maximum payload mass. Use a subquery\n"
      ]
    },
    {
      "cell_type": "code",
      "execution_count": 47,
      "metadata": {
        "tags": [],
        "colab": {
          "base_uri": "https://localhost:8080/"
        },
        "id": "y0lH3CrO2j9q",
        "outputId": "c097543c-54a2-454a-c9ba-362592c02ecb"
      },
      "outputs": [
        {
          "output_type": "stream",
          "name": "stdout",
          "text": [
            "Booster Version: F9 B5 B1048.4, Payload Mass: 15600 kg\n",
            "Booster Version: F9 B5 B1049.4, Payload Mass: 15600 kg\n",
            "Booster Version: F9 B5 B1051.3, Payload Mass: 15600 kg\n",
            "Booster Version: F9 B5 B1056.4, Payload Mass: 15600 kg\n",
            "Booster Version: F9 B5 B1048.5, Payload Mass: 15600 kg\n",
            "Booster Version: F9 B5 B1051.4, Payload Mass: 15600 kg\n",
            "Booster Version: F9 B5 B1049.5, Payload Mass: 15600 kg\n",
            "Booster Version: F9 B5 B1060.2 , Payload Mass: 15600 kg\n",
            "Booster Version: F9 B5 B1058.3 , Payload Mass: 15600 kg\n",
            "Booster Version: F9 B5 B1051.6, Payload Mass: 15600 kg\n",
            "Booster Version: F9 B5 B1060.3, Payload Mass: 15600 kg\n",
            "Booster Version: F9 B5 B1049.7 , Payload Mass: 15600 kg\n"
          ]
        }
      ],
      "source": [
        "query = \"\"\"\n",
        "SELECT Booster_Version, PAYLOAD_MASS__KG_\n",
        "FROM SPACEXTABLE\n",
        "WHERE PAYLOAD_MASS__KG_ = (\n",
        "    SELECT MAX(PAYLOAD_MASS__KG_)\n",
        "    FROM SPACEXTABLE\n",
        ");\n",
        "\"\"\"\n",
        "cur.execute(query)\n",
        "results = cur.fetchall()\n",
        "for result in results:\n",
        "    print(f\"Booster Version: {result[0]}, Payload Mass: {result[1]} kg\")\n"
      ]
    },
    {
      "cell_type": "markdown",
      "metadata": {
        "id": "W7SN1jL22j9r"
      },
      "source": [
        "### Task 9\n",
        "\n",
        "\n",
        "##### List the records which will display the month names, failure landing_outcomes in drone ship ,booster versions, launch_site for the months in year 2015.\n",
        "\n",
        "**Note: SQLLite does not support monthnames. So you need to use  substr(Date, 6,2) as month to get the months and substr(Date,0,5)='2015' for year.**\n"
      ]
    },
    {
      "cell_type": "code",
      "execution_count": 44,
      "metadata": {
        "tags": [],
        "id": "CPRz6VTq2j9r"
      },
      "outputs": [],
      "source": [
        "query = \"\"\"\n",
        "SELECT\n",
        "    CASE\n",
        "        WHEN substr(Date, 6, 2) = '01' THEN 'January'\n",
        "        WHEN substr(Date, 6, 2) = '02' THEN 'February'\n",
        "        WHEN substr(Date, 6, 2) = '03' THEN 'March'\n",
        "        WHEN substr(Date, 6, 2) = '04' THEN 'April'\n",
        "        WHEN substr(Date, 6, 2) = '05' THEN 'May'\n",
        "        WHEN substr(Date, 6, 2) = '06' THEN 'June'\n",
        "        WHEN substr(Date, 6, 2) = '07' THEN 'July'\n",
        "        WHEN substr(Date, 6, 2) = '08' THEN 'August'\n",
        "        WHEN substr(Date, 6, 2) = '09' THEN 'September'\n",
        "        WHEN substr(Date, 6, 2) = '10' THEN 'October'\n",
        "        WHEN substr(Date, 6, 2) = '11' THEN 'November'\n",
        "        WHEN substr(Date, 6, 2) = '12' THEN 'December'\n",
        "    END AS Month,\n",
        "    Booster_Version,\n",
        "    Launch_Site\n",
        "FROM SPACEXTABLE\n",
        "WHERE substr(Date, 0, 5) = '2015' AND Landing_Outcome = 'Failure';\n",
        "\"\"\"\n",
        "cur.execute(query)\n",
        "results = cur.fetchall()\n",
        "for result in results:\n",
        "    print(f\"Month: {result[0]}, Booster Version: {result[1]}, Launch Site: {result[2]}\")\n"
      ]
    },
    {
      "cell_type": "markdown",
      "metadata": {
        "id": "v3veUTzY2j9s"
      },
      "source": [
        "### Task 10\n",
        "\n",
        "\n",
        "\n",
        "\n",
        "##### Rank the count of landing outcomes (such as Failure (drone ship) or Success (ground pad)) between the date 2010-06-04 and 2017-03-20, in descending order.\n"
      ]
    },
    {
      "cell_type": "code",
      "execution_count": 48,
      "metadata": {
        "tags": [],
        "colab": {
          "base_uri": "https://localhost:8080/"
        },
        "id": "GQa2fZEm2j9s",
        "outputId": "c2fa7e4d-bd05-44b0-b3c7-db1fab488812"
      },
      "outputs": [
        {
          "output_type": "stream",
          "name": "stdout",
          "text": [
            "Landing Outcome: No attempt, Count: 10\n",
            "Landing Outcome: Success (drone ship), Count: 5\n",
            "Landing Outcome: Failure (drone ship), Count: 5\n",
            "Landing Outcome: Success (ground pad), Count: 3\n",
            "Landing Outcome: Controlled (ocean), Count: 3\n",
            "Landing Outcome: Uncontrolled (ocean), Count: 2\n",
            "Landing Outcome: Failure (parachute), Count: 2\n",
            "Landing Outcome: Precluded (drone ship), Count: 1\n"
          ]
        }
      ],
      "source": [
        "query = \"\"\"\n",
        "SELECT Landing_Outcome, COUNT(*) AS Count\n",
        "FROM SPACEXTABLE\n",
        "WHERE Date BETWEEN '2010-06-04' AND '2017-03-20'\n",
        "GROUP BY Landing_Outcome\n",
        "ORDER BY Count DESC;\n",
        "\"\"\"\n",
        "cur.execute(query)\n",
        "results = cur.fetchall()\n",
        "for result in results:\n",
        "    print(f\"Landing Outcome: {result[0]}, Count: {result[1]}\")\n"
      ]
    },
    {
      "cell_type": "markdown",
      "metadata": {
        "id": "OTQ-Zzp32j9t"
      },
      "source": [
        "### Reference Links\n",
        "\n",
        "* <a href =\"https://cf-courses-data.s3.us.cloud-object-storage.appdomain.cloud/IBMDeveloperSkillsNetwork-DB0201EN-SkillsNetwork/labs/Labs_Coursera_V5/labs/Lab%20-%20String%20Patterns%20-%20Sorting%20-%20Grouping/instructional-labs.md.html?origin=www.coursera.org\">Hands-on Lab : String Patterns, Sorting and Grouping</a>  \n",
        "\n",
        "*  <a  href=\"https://cf-courses-data.s3.us.cloud-object-storage.appdomain.cloud/IBMDeveloperSkillsNetwork-DB0201EN-SkillsNetwork/labs/Labs_Coursera_V5/labs/Lab%20-%20Built-in%20functions%20/Hands-on_Lab__Built-in_Functions.md.html?origin=www.coursera.org\">Hands-on Lab: Built-in functions</a>\n",
        "\n",
        "*  <a  href=\"https://cf-courses-data.s3.us.cloud-object-storage.appdomain.cloud/IBMDeveloperSkillsNetwork-DB0201EN-SkillsNetwork/labs/Labs_Coursera_V5/labs/Lab%20-%20Sub-queries%20and%20Nested%20SELECTs%20/instructional-labs.md.html?origin=www.coursera.org\">Hands-on Lab : Sub-queries and Nested SELECT Statements</a>\n",
        "\n",
        "*   <a href=\"https://cf-courses-data.s3.us.cloud-object-storage.appdomain.cloud/IBMDeveloperSkillsNetwork-DB0201EN-SkillsNetwork/labs/Module%205/DB0201EN-Week3-1-3-SQLmagic.ipynb\">Hands-on Tutorial: Accessing Databases with SQL magic</a>\n",
        "\n",
        "*  <a href= \"https://cf-courses-data.s3.us.cloud-object-storage.appdomain.cloud/IBMDeveloperSkillsNetwork-DB0201EN-SkillsNetwork/labs/Module%205/DB0201EN-Week3-1-4-Analyzing.ipynb\">Hands-on Lab: Analyzing a real World Data Set</a>\n",
        "\n",
        "\n"
      ]
    },
    {
      "cell_type": "markdown",
      "metadata": {
        "id": "ra-oa6V02j9t"
      },
      "source": [
        "## Author(s)\n",
        "\n",
        "<h4> Lakshmi Holla </h4>\n"
      ]
    },
    {
      "cell_type": "markdown",
      "metadata": {
        "id": "UIJGhERo2j9t"
      },
      "source": [
        "## Other Contributors\n",
        "\n",
        "<h4> Rav Ahuja </h4>\n"
      ]
    },
    {
      "cell_type": "markdown",
      "metadata": {
        "id": "LPrQjqiy2j9t"
      },
      "source": [
        "## Change log\n",
        "| Date | Version | Changed by | Change Description |\n",
        "|------|--------|--------|---------|\n",
        "| 2021-07-09 | 0.2 |Lakshmi Holla | Changes made in magic sql|\n",
        "| 2021-05-20 | 0.1 |Lakshmi Holla | Created Initial Version |\n"
      ]
    },
    {
      "cell_type": "markdown",
      "metadata": {
        "id": "cmydbL5F2j9u"
      },
      "source": [
        "## <h3 align=\"center\"> © IBM Corporation 2021. All rights reserved. <h3/>\n"
      ]
    }
  ],
  "metadata": {
    "kernelspec": {
      "display_name": "Python",
      "language": "python",
      "name": "conda-env-python-py"
    },
    "language_info": {
      "codemirror_mode": {
        "name": "ipython",
        "version": 3
      },
      "file_extension": ".py",
      "mimetype": "text/x-python",
      "name": "python",
      "nbconvert_exporter": "python",
      "pygments_lexer": "ipython3",
      "version": "3.7.12"
    },
    "colab": {
      "provenance": []
    }
  },
  "nbformat": 4,
  "nbformat_minor": 0
}